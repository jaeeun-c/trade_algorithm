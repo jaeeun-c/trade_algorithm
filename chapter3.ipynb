{
 "cells": [
  {
   "cell_type": "code",
   "execution_count": 24,
   "metadata": {},
   "outputs": [],
   "source": [
    "from pandas_datareader import data as pdr\n",
    "import yfinance as yf\n",
    "import matplotlib.pyplot as plt"
   ]
  },
  {
   "cell_type": "code",
   "execution_count": 25,
   "metadata": {},
   "outputs": [],
   "source": [
    "# 삼성전자, 테슬라 주식데이터 조회\n",
    "yf.pdr_override() # pdr override해서 더 빨리 데이터 조회"
   ]
  },
  {
   "cell_type": "code",
   "execution_count": 36,
   "metadata": {},
   "outputs": [
    {
     "name": "stdout",
     "output_type": "stream",
     "text": [
      "[*********************100%***********************]  1 of 1 completed\n",
      "[*********************100%***********************]  1 of 1 completed\n"
     ]
    }
   ],
   "source": [
    "sec = pdr.get_data_yahoo('005930.KS', start='2018-05-04')\n",
    "tsla = pdr.get_data_yahoo('TSLA', start=\"2018-05-04\")"
   ]
  },
  {
   "cell_type": "code",
   "execution_count": 37,
   "metadata": {},
   "outputs": [
    {
     "data": {
      "text/html": [
       "<div>\n",
       "<style scoped>\n",
       "    .dataframe tbody tr th:only-of-type {\n",
       "        vertical-align: middle;\n",
       "    }\n",
       "\n",
       "    .dataframe tbody tr th {\n",
       "        vertical-align: top;\n",
       "    }\n",
       "\n",
       "    .dataframe thead th {\n",
       "        text-align: right;\n",
       "    }\n",
       "</style>\n",
       "<table border=\"1\" class=\"dataframe\">\n",
       "  <thead>\n",
       "    <tr style=\"text-align: right;\">\n",
       "      <th></th>\n",
       "      <th>Open</th>\n",
       "      <th>High</th>\n",
       "      <th>Low</th>\n",
       "      <th>Close</th>\n",
       "      <th>Adj Close</th>\n",
       "      <th>Volume</th>\n",
       "    </tr>\n",
       "    <tr>\n",
       "      <th>Date</th>\n",
       "      <th></th>\n",
       "      <th></th>\n",
       "      <th></th>\n",
       "      <th></th>\n",
       "      <th></th>\n",
       "      <th></th>\n",
       "    </tr>\n",
       "  </thead>\n",
       "  <tbody>\n",
       "    <tr>\n",
       "      <th>2021-02-19</th>\n",
       "      <td>82300.0</td>\n",
       "      <td>82800.0</td>\n",
       "      <td>81000.0</td>\n",
       "      <td>82600.0</td>\n",
       "      <td>82600.0</td>\n",
       "      <td>25880879</td>\n",
       "    </tr>\n",
       "    <tr>\n",
       "      <th>2021-02-22</th>\n",
       "      <td>83800.0</td>\n",
       "      <td>84200.0</td>\n",
       "      <td>82200.0</td>\n",
       "      <td>82200.0</td>\n",
       "      <td>82200.0</td>\n",
       "      <td>25419886</td>\n",
       "    </tr>\n",
       "    <tr>\n",
       "      <th>2021-02-23</th>\n",
       "      <td>81200.0</td>\n",
       "      <td>82900.0</td>\n",
       "      <td>81100.0</td>\n",
       "      <td>82000.0</td>\n",
       "      <td>82000.0</td>\n",
       "      <td>20587314</td>\n",
       "    </tr>\n",
       "    <tr>\n",
       "      <th>2021-02-24</th>\n",
       "      <td>81800.0</td>\n",
       "      <td>83600.0</td>\n",
       "      <td>81300.0</td>\n",
       "      <td>82000.0</td>\n",
       "      <td>82000.0</td>\n",
       "      <td>26807651</td>\n",
       "    </tr>\n",
       "    <tr>\n",
       "      <th>2021-02-25</th>\n",
       "      <td>84000.0</td>\n",
       "      <td>85400.0</td>\n",
       "      <td>83000.0</td>\n",
       "      <td>85300.0</td>\n",
       "      <td>85300.0</td>\n",
       "      <td>33708989</td>\n",
       "    </tr>\n",
       "  </tbody>\n",
       "</table>\n",
       "</div>"
      ],
      "text/plain": [
       "               Open     High      Low    Close  Adj Close    Volume\n",
       "Date                                                               \n",
       "2021-02-19  82300.0  82800.0  81000.0  82600.0    82600.0  25880879\n",
       "2021-02-22  83800.0  84200.0  82200.0  82200.0    82200.0  25419886\n",
       "2021-02-23  81200.0  82900.0  81100.0  82000.0    82000.0  20587314\n",
       "2021-02-24  81800.0  83600.0  81300.0  82000.0    82000.0  26807651\n",
       "2021-02-25  84000.0  85400.0  83000.0  85300.0    85300.0  33708989"
      ]
     },
     "execution_count": 37,
     "metadata": {},
     "output_type": "execute_result"
    }
   ],
   "source": [
    "sec.tail() # close - 종가, Adj_close - 수정종가, Volume - 거래량"
   ]
  },
  {
   "cell_type": "code",
   "execution_count": 38,
   "metadata": {},
   "outputs": [
    {
     "data": {
      "text/html": [
       "<div>\n",
       "<style scoped>\n",
       "    .dataframe tbody tr th:only-of-type {\n",
       "        vertical-align: middle;\n",
       "    }\n",
       "\n",
       "    .dataframe tbody tr th {\n",
       "        vertical-align: top;\n",
       "    }\n",
       "\n",
       "    .dataframe thead th {\n",
       "        text-align: right;\n",
       "    }\n",
       "</style>\n",
       "<table border=\"1\" class=\"dataframe\">\n",
       "  <thead>\n",
       "    <tr style=\"text-align: right;\">\n",
       "      <th></th>\n",
       "      <th>Open</th>\n",
       "      <th>High</th>\n",
       "      <th>Low</th>\n",
       "      <th>Close</th>\n",
       "      <th>Adj Close</th>\n",
       "      <th>Volume</th>\n",
       "    </tr>\n",
       "    <tr>\n",
       "      <th>Date</th>\n",
       "      <th></th>\n",
       "      <th></th>\n",
       "      <th></th>\n",
       "      <th></th>\n",
       "      <th></th>\n",
       "      <th></th>\n",
       "    </tr>\n",
       "  </thead>\n",
       "  <tbody>\n",
       "    <tr>\n",
       "      <th>2021-02-19</th>\n",
       "      <td>795.000000</td>\n",
       "      <td>796.789978</td>\n",
       "      <td>777.369995</td>\n",
       "      <td>781.299988</td>\n",
       "      <td>781.299988</td>\n",
       "      <td>18904800</td>\n",
       "    </tr>\n",
       "    <tr>\n",
       "      <th>2021-02-22</th>\n",
       "      <td>762.640015</td>\n",
       "      <td>768.500000</td>\n",
       "      <td>710.200012</td>\n",
       "      <td>714.500000</td>\n",
       "      <td>714.500000</td>\n",
       "      <td>37011700</td>\n",
       "    </tr>\n",
       "    <tr>\n",
       "      <th>2021-02-23</th>\n",
       "      <td>662.130005</td>\n",
       "      <td>713.609985</td>\n",
       "      <td>619.000000</td>\n",
       "      <td>698.840027</td>\n",
       "      <td>698.840027</td>\n",
       "      <td>66397000</td>\n",
       "    </tr>\n",
       "    <tr>\n",
       "      <th>2021-02-24</th>\n",
       "      <td>711.849976</td>\n",
       "      <td>745.000000</td>\n",
       "      <td>694.169983</td>\n",
       "      <td>742.020020</td>\n",
       "      <td>742.020020</td>\n",
       "      <td>36677100</td>\n",
       "    </tr>\n",
       "    <tr>\n",
       "      <th>2021-02-25</th>\n",
       "      <td>726.150024</td>\n",
       "      <td>737.200012</td>\n",
       "      <td>707.179993</td>\n",
       "      <td>718.039978</td>\n",
       "      <td>718.039978</td>\n",
       "      <td>10919845</td>\n",
       "    </tr>\n",
       "  </tbody>\n",
       "</table>\n",
       "</div>"
      ],
      "text/plain": [
       "                  Open        High         Low       Close   Adj Close  \\\n",
       "Date                                                                     \n",
       "2021-02-19  795.000000  796.789978  777.369995  781.299988  781.299988   \n",
       "2021-02-22  762.640015  768.500000  710.200012  714.500000  714.500000   \n",
       "2021-02-23  662.130005  713.609985  619.000000  698.840027  698.840027   \n",
       "2021-02-24  711.849976  745.000000  694.169983  742.020020  742.020020   \n",
       "2021-02-25  726.150024  737.200012  707.179993  718.039978  718.039978   \n",
       "\n",
       "              Volume  \n",
       "Date                  \n",
       "2021-02-19  18904800  \n",
       "2021-02-22  37011700  \n",
       "2021-02-23  66397000  \n",
       "2021-02-24  36677100  \n",
       "2021-02-25  10919845  "
      ]
     },
     "execution_count": 38,
     "metadata": {},
     "output_type": "execute_result"
    }
   ],
   "source": [
    "tsla.tail() # 장 중이면 실시간 조회"
   ]
  },
  {
   "cell_type": "code",
   "execution_count": 39,
   "metadata": {},
   "outputs": [
    {
     "data": {
      "image/png": "[encoded data removed]",
      "text/plain": [
       "<Figure size 432x288 with 1 Axes>"
      ]
     },
     "metadata": {
      "needs_background": "light"
     },
     "output_type": "display_data"
    }
   ],
   "source": [
    "plt.plot(sec.index, sec.Close, 'b', label=\"SAMSUNG\")\n",
    "plt.plot(tsla.index, tsla.Close*1100, 'r--', label=\"Tesla\") #대충 환율반영..\n",
    "plt.legend(loc='best')\n",
    "plt.show()"
   ]
  },
  {
   "cell_type": "code",
   "execution_count": 42,
   "metadata": {},
   "outputs": [],
   "source": [
    "# 일간변동률 Daily percent change\n",
    "sec_dpc = (sec['Close'] /sec['Close'].shift(1)-1) * 100"
   ]
  },
  {
   "cell_type": "code",
   "execution_count": 47,
   "metadata": {},
   "outputs": [],
   "source": [
    "sec_dpc.iloc[0] = 0"
   ]
  },
  {
   "cell_type": "code",
   "execution_count": 48,
   "metadata": {},
   "outputs": [
    {
     "data": {
      "text/plain": [
       "Date\n",
       "2018-05-04    0.000000\n",
       "2018-05-08    1.348748\n",
       "2018-05-09   -3.231939\n",
       "2018-05-10    1.375246\n",
       "2018-05-11   -0.581395\n",
       "Name: Close, dtype: float64"
      ]
     },
     "execution_count": 48,
     "metadata": {},
     "output_type": "execute_result"
    }
   ],
   "source": [
    "sec_dpc.head()"
   ]
  },
  {
   "cell_type": "code",
   "execution_count": 49,
   "metadata": {},
   "outputs": [],
   "source": [
    "tsla_dpc = (tsla['Close'] /tsla['Close'].shift(1)-1) * 100"
   ]
  },
  {
   "cell_type": "code",
   "execution_count": 50,
   "metadata": {},
   "outputs": [],
   "source": [
    "tsla_dpc.iloc[0] = 0"
   ]
  },
  {
   "cell_type": "code",
   "execution_count": 51,
   "metadata": {},
   "outputs": [
    {
     "data": {
      "text/plain": [
       "(array([  3.,  24., 104., 271., 212.,  58.,  13.,   2.,   1.,   1.]),\n",
       " array([-6.3876652 , -4.70183985, -3.01601451, -1.33018917,  0.35563618,\n",
       "         2.04146152,  3.72728686,  5.41311221,  7.09893755,  8.78476289,\n",
       "        10.47058824]),\n",
       " <a list of 10 Patch objects>)"
      ]
     },
     "execution_count": 51,
     "metadata": {},
     "output_type": "execute_result"
    },
    {
     "data": {
      "image/png": "[encoded data removed]",
      "text/plain": [
       "<Figure size 432x288 with 1 Axes>"
      ]
     },
     "metadata": {
      "needs_background": "light"
     },
     "output_type": "display_data"
    }
   ],
   "source": [
    "plt.hist(sec_dpc, bins=10)"
   ]
  },
  {
   "cell_type": "code",
   "execution_count": 52,
   "metadata": {},
   "outputs": [
    {
     "data": {
      "text/plain": [
       "(array([  3.,   5.,   6.,  38., 213., 328.,  79.,  24.,   7.,   6.]),\n",
       " array([-21.06282614, -16.96705724, -12.87128834,  -8.77551943,\n",
       "         -4.67975053,  -0.58398163,   3.51178728,   7.60755618,\n",
       "         11.70332508,  15.79909399,  19.89486289]),\n",
       " <a list of 10 Patch objects>)"
      ]
     },
     "execution_count": 52,
     "metadata": {},
     "output_type": "execute_result"
    },
    {
     "data": {
      "image/png": "[encoded data removed]",
      "text/plain": [
       "<Figure size 432x288 with 1 Axes>"
      ]
     },
     "metadata": {
      "needs_background": "light"
     },
     "output_type": "display_data"
    }
   ],
   "source": [
    "plt.hist(tsla_dpc, bins=10)"
   ]
  },
  {
   "cell_type": "code",
   "execution_count": 53,
   "metadata": {},
   "outputs": [],
   "source": [
    "sec_dpc_cs = sec_dpc.cumsum() #누적합"
   ]
  },
  {
   "cell_type": "code",
   "execution_count": 55,
   "metadata": {},
   "outputs": [],
   "source": [
    "tsla_dpc_cs = tsla_dpc.cumsum() #누적합"
   ]
  },
  {
   "cell_type": "code",
   "execution_count": 56,
   "metadata": {},
   "outputs": [
    {
     "data": {
      "image/png": "[encoded data removed]",
      "text/plain": [
       "<Figure size 432x288 with 1 Axes>"
      ]
     },
     "metadata": {
      "needs_background": "light"
     },
     "output_type": "display_data"
    }
   ],
   "source": [
    "plt.plot(sec.index, sec_dpc_cs, 'b', label=\"Samsung\")\n",
    "plt.plot(tsla.index, tsla_dpc_cs, 'r--', label=\"Tesla\")\n",
    "plt.ylabel('Change%')\n",
    "plt.grid(True)\n",
    "plt.legend(loc='best')\n",
    "plt.show()"
   ]
  },
  {
   "cell_type": "code",
   "execution_count": null,
   "metadata": {},
   "outputs": [],
   "source": []
  }
 ],
 "metadata": {
  "kernelspec": {
   "display_name": "Python 3",
   "language": "python",
   "name": "python3"
  },
  "language_info": {
   "codemirror_mode": {
    "name": "ipython",
    "version": 3
   },
   "file_extension": ".py",
   "mimetype": "text/x-python",
   "name": "python",
   "nbconvert_exporter": "python",
   "pygments_lexer": "ipython3",
   "version": "3.7.3"
  }
 },
 "nbformat": 4,
 "nbformat_minor": 2
}
